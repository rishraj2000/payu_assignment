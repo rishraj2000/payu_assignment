{
  "nbformat": 4,
  "nbformat_minor": 0,
  "metadata": {
    "colab": {
      "name": "payu.ipynb",
      "provenance": []
    },
    "kernelspec": {
      "name": "python3",
      "display_name": "Python 3"
    },
    "language_info": {
      "name": "python"
    }
  },
  "cells": [
    {
      "cell_type": "markdown",
      "metadata": {
        "id": "ME4FZc079vCr"
      },
      "source": [
        "##Starting with Exploratory Data Analysis"
      ]
    },
    {
      "cell_type": "code",
      "metadata": {
        "id": "pm5tdbz_YNeG"
      },
      "source": [
        "import os\n",
        "import numpy as np\n",
        "import pandas as pd\n",
        "import matplotlib.pyplot as plt\n",
        "import seaborn as sns\n",
        "import datetime"
      ],
      "execution_count": null,
      "outputs": []
    },
    {
      "cell_type": "code",
      "metadata": {
        "id": "oZCGddRHYTuB"
      },
      "source": [
        "data = pd.read_csv('payu.csv')"
      ],
      "execution_count": null,
      "outputs": []
    },
    {
      "cell_type": "code",
      "metadata": {
        "colab": {
          "base_uri": "https://localhost:8080/",
          "height": 204
        },
        "id": "vfmpReEnZEOU",
        "outputId": "517738c1-a4ec-413a-c9c7-1c7e65a568ee"
      },
      "source": [
        "data.head()"
      ],
      "execution_count": null,
      "outputs": [
        {
          "output_type": "execute_result",
          "data": {
            "text/html": [
              "<div>\n",
              "<style scoped>\n",
              "    .dataframe tbody tr th:only-of-type {\n",
              "        vertical-align: middle;\n",
              "    }\n",
              "\n",
              "    .dataframe tbody tr th {\n",
              "        vertical-align: top;\n",
              "    }\n",
              "\n",
              "    .dataframe thead th {\n",
              "        text-align: right;\n",
              "    }\n",
              "</style>\n",
              "<table border=\"1\" class=\"dataframe\">\n",
              "  <thead>\n",
              "    <tr style=\"text-align: right;\">\n",
              "      <th></th>\n",
              "      <th>Merchant ID</th>\n",
              "      <th>Transaction ID</th>\n",
              "      <th>Date of Transaction</th>\n",
              "      <th>Settlement Date</th>\n",
              "      <th>Requested Action</th>\n",
              "      <th>Status</th>\n",
              "      <th>Transaction amount</th>\n",
              "      <th>Transaction fee</th>\n",
              "      <th>Payment Type</th>\n",
              "    </tr>\n",
              "  </thead>\n",
              "  <tbody>\n",
              "    <tr>\n",
              "      <th>0</th>\n",
              "      <td>9511450</td>\n",
              "      <td>9410106299</td>\n",
              "      <td>14/07/21 10:03</td>\n",
              "      <td>16/07/21</td>\n",
              "      <td>capture</td>\n",
              "      <td>SUCCESS</td>\n",
              "      <td>300.0</td>\n",
              "      <td>21.24</td>\n",
              "      <td>NB</td>\n",
              "    </tr>\n",
              "    <tr>\n",
              "      <th>1</th>\n",
              "      <td>9639200</td>\n",
              "      <td>9406287755</td>\n",
              "      <td>13/07/21 16:46</td>\n",
              "      <td>14/07/21</td>\n",
              "      <td>capture</td>\n",
              "      <td>SUCCESS</td>\n",
              "      <td>2200.0</td>\n",
              "      <td>22.42</td>\n",
              "      <td>NB</td>\n",
              "    </tr>\n",
              "    <tr>\n",
              "      <th>2</th>\n",
              "      <td>9682368</td>\n",
              "      <td>8070594039</td>\n",
              "      <td>11/07/21 5:40</td>\n",
              "      <td>13/07/21</td>\n",
              "      <td>capture</td>\n",
              "      <td>SUCCESS</td>\n",
              "      <td>5450.0</td>\n",
              "      <td>22.42</td>\n",
              "      <td>NB</td>\n",
              "    </tr>\n",
              "    <tr>\n",
              "      <th>3</th>\n",
              "      <td>9682368</td>\n",
              "      <td>8070598614</td>\n",
              "      <td>11/07/21 13:36</td>\n",
              "      <td>13/07/21</td>\n",
              "      <td>capture</td>\n",
              "      <td>SUCCESS</td>\n",
              "      <td>5450.0</td>\n",
              "      <td>22.42</td>\n",
              "      <td>NB</td>\n",
              "    </tr>\n",
              "    <tr>\n",
              "      <th>4</th>\n",
              "      <td>9682368</td>\n",
              "      <td>8070601263</td>\n",
              "      <td>11/07/21 17:54</td>\n",
              "      <td>13/07/21</td>\n",
              "      <td>capture</td>\n",
              "      <td>SUCCESS</td>\n",
              "      <td>2725.0</td>\n",
              "      <td>22.42</td>\n",
              "      <td>NB</td>\n",
              "    </tr>\n",
              "  </tbody>\n",
              "</table>\n",
              "</div>"
            ],
            "text/plain": [
              "   Merchant ID  Transaction ID  ... Transaction fee Payment Type\n",
              "0      9511450      9410106299  ...           21.24           NB\n",
              "1      9639200      9406287755  ...           22.42           NB\n",
              "2      9682368      8070594039  ...           22.42           NB\n",
              "3      9682368      8070598614  ...           22.42           NB\n",
              "4      9682368      8070601263  ...           22.42           NB\n",
              "\n",
              "[5 rows x 9 columns]"
            ]
          },
          "metadata": {
            "tags": []
          },
          "execution_count": 3
        }
      ]
    },
    {
      "cell_type": "markdown",
      "metadata": {
        "id": "12SvF3Oz9yRJ"
      },
      "source": [
        "##Converting time stamp to Datetime format"
      ]
    },
    {
      "cell_type": "code",
      "metadata": {
        "id": "JJmcBFQ7yr96"
      },
      "source": [
        "data['Date of Transaction'] = pd.to_datetime(data['Date of Transaction'], format='%d/%m/%y %H:%M').dt.strftime('%Y-%m-%d %H:%M')"
      ],
      "execution_count": null,
      "outputs": []
    },
    {
      "cell_type": "code",
      "metadata": {
        "id": "0Tyk0up5zEmT"
      },
      "source": [
        "data['Settlement Date'] = pd.to_datetime(data['Settlement Date'], format='%d/%m/%y', errors='coerce').dt.strftime('%Y-%m-%d %H:%M')"
      ],
      "execution_count": null,
      "outputs": []
    },
    {
      "cell_type": "code",
      "metadata": {
        "id": "0vkek06zA4IY"
      },
      "source": [
        "data['Date of Transaction'] = pd.to_datetime(data['Date of Transaction'])"
      ],
      "execution_count": null,
      "outputs": []
    },
    {
      "cell_type": "code",
      "metadata": {
        "id": "V6Mt-V7fBOZN"
      },
      "source": [
        "data['Settlement Date'] = pd.to_datetime(data['Settlement Date'])"
      ],
      "execution_count": null,
      "outputs": []
    },
    {
      "cell_type": "code",
      "metadata": {
        "colab": {
          "base_uri": "https://localhost:8080/",
          "height": 204
        },
        "id": "CSQej1e4zBGx",
        "outputId": "955069f6-e692-4fa9-8747-31e246afe959"
      },
      "source": [
        "data.head()"
      ],
      "execution_count": null,
      "outputs": [
        {
          "output_type": "execute_result",
          "data": {
            "text/html": [
              "<div>\n",
              "<style scoped>\n",
              "    .dataframe tbody tr th:only-of-type {\n",
              "        vertical-align: middle;\n",
              "    }\n",
              "\n",
              "    .dataframe tbody tr th {\n",
              "        vertical-align: top;\n",
              "    }\n",
              "\n",
              "    .dataframe thead th {\n",
              "        text-align: right;\n",
              "    }\n",
              "</style>\n",
              "<table border=\"1\" class=\"dataframe\">\n",
              "  <thead>\n",
              "    <tr style=\"text-align: right;\">\n",
              "      <th></th>\n",
              "      <th>Merchant ID</th>\n",
              "      <th>Transaction ID</th>\n",
              "      <th>Date of Transaction</th>\n",
              "      <th>Settlement Date</th>\n",
              "      <th>Requested Action</th>\n",
              "      <th>Status</th>\n",
              "      <th>Transaction amount</th>\n",
              "      <th>Transaction fee</th>\n",
              "      <th>Payment Type</th>\n",
              "    </tr>\n",
              "  </thead>\n",
              "  <tbody>\n",
              "    <tr>\n",
              "      <th>0</th>\n",
              "      <td>9511450</td>\n",
              "      <td>9410106299</td>\n",
              "      <td>2021-07-14 10:03:00</td>\n",
              "      <td>2021-07-16</td>\n",
              "      <td>capture</td>\n",
              "      <td>SUCCESS</td>\n",
              "      <td>300.0</td>\n",
              "      <td>21.24</td>\n",
              "      <td>NB</td>\n",
              "    </tr>\n",
              "    <tr>\n",
              "      <th>1</th>\n",
              "      <td>9639200</td>\n",
              "      <td>9406287755</td>\n",
              "      <td>2021-07-13 16:46:00</td>\n",
              "      <td>2021-07-14</td>\n",
              "      <td>capture</td>\n",
              "      <td>SUCCESS</td>\n",
              "      <td>2200.0</td>\n",
              "      <td>22.42</td>\n",
              "      <td>NB</td>\n",
              "    </tr>\n",
              "    <tr>\n",
              "      <th>2</th>\n",
              "      <td>9682368</td>\n",
              "      <td>8070594039</td>\n",
              "      <td>2021-07-11 05:40:00</td>\n",
              "      <td>2021-07-13</td>\n",
              "      <td>capture</td>\n",
              "      <td>SUCCESS</td>\n",
              "      <td>5450.0</td>\n",
              "      <td>22.42</td>\n",
              "      <td>NB</td>\n",
              "    </tr>\n",
              "    <tr>\n",
              "      <th>3</th>\n",
              "      <td>9682368</td>\n",
              "      <td>8070598614</td>\n",
              "      <td>2021-07-11 13:36:00</td>\n",
              "      <td>2021-07-13</td>\n",
              "      <td>capture</td>\n",
              "      <td>SUCCESS</td>\n",
              "      <td>5450.0</td>\n",
              "      <td>22.42</td>\n",
              "      <td>NB</td>\n",
              "    </tr>\n",
              "    <tr>\n",
              "      <th>4</th>\n",
              "      <td>9682368</td>\n",
              "      <td>8070601263</td>\n",
              "      <td>2021-07-11 17:54:00</td>\n",
              "      <td>2021-07-13</td>\n",
              "      <td>capture</td>\n",
              "      <td>SUCCESS</td>\n",
              "      <td>2725.0</td>\n",
              "      <td>22.42</td>\n",
              "      <td>NB</td>\n",
              "    </tr>\n",
              "  </tbody>\n",
              "</table>\n",
              "</div>"
            ],
            "text/plain": [
              "   Merchant ID  Transaction ID  ... Transaction fee Payment Type\n",
              "0      9511450      9410106299  ...           21.24           NB\n",
              "1      9639200      9406287755  ...           22.42           NB\n",
              "2      9682368      8070594039  ...           22.42           NB\n",
              "3      9682368      8070598614  ...           22.42           NB\n",
              "4      9682368      8070601263  ...           22.42           NB\n",
              "\n",
              "[5 rows x 9 columns]"
            ]
          },
          "metadata": {
            "tags": []
          },
          "execution_count": 8
        }
      ]
    },
    {
      "cell_type": "markdown",
      "metadata": {
        "id": "tjG8ZDv595mI"
      },
      "source": [
        ""
      ]
    },
    {
      "cell_type": "markdown",
      "metadata": {
        "id": "dssjln8R97WT"
      },
      "source": [
        "##Checking for Null values"
      ]
    },
    {
      "cell_type": "code",
      "metadata": {
        "colab": {
          "base_uri": "https://localhost:8080/"
        },
        "id": "VzW7YwnhZI72",
        "outputId": "d1d3f4fd-dad2-4ae5-cd20-964f2bed2678"
      },
      "source": [
        "data.info()"
      ],
      "execution_count": null,
      "outputs": [
        {
          "output_type": "stream",
          "text": [
            "<class 'pandas.core.frame.DataFrame'>\n",
            "RangeIndex: 35040 entries, 0 to 35039\n",
            "Data columns (total 9 columns):\n",
            " #   Column               Non-Null Count  Dtype         \n",
            "---  ------               --------------  -----         \n",
            " 0   Merchant ID          35040 non-null  int64         \n",
            " 1   Transaction ID       35040 non-null  int64         \n",
            " 2   Date of Transaction  35040 non-null  datetime64[ns]\n",
            " 3   Settlement Date      29981 non-null  datetime64[ns]\n",
            " 4   Requested Action     35040 non-null  object        \n",
            " 5   Status               35040 non-null  object        \n",
            " 6   Transaction amount   35040 non-null  float64       \n",
            " 7   Transaction fee      35040 non-null  float64       \n",
            " 8   Payment Type         35040 non-null  object        \n",
            "dtypes: datetime64[ns](2), float64(2), int64(2), object(3)\n",
            "memory usage: 2.4+ MB\n"
          ],
          "name": "stdout"
        }
      ]
    },
    {
      "cell_type": "markdown",
      "metadata": {
        "id": "e1LqZz_--BGl"
      },
      "source": [
        "##Calculating time duration in minutes between settlement time and Date of transaction"
      ]
    },
    {
      "cell_type": "code",
      "metadata": {
        "id": "6VK0Nitq5Am5"
      },
      "source": [
        "time_dur1 = (data['Settlement Date']-data['Date of Transaction']).astype('timedelta64[m]')"
      ],
      "execution_count": null,
      "outputs": []
    },
    {
      "cell_type": "code",
      "metadata": {
        "id": "9-jatuk9CB7A"
      },
      "source": [
        "time_dur2 = (data['Settlement Date']-data['Date of Transaction'])#.astype('timedelta64[h]')"
      ],
      "execution_count": null,
      "outputs": []
    },
    {
      "cell_type": "code",
      "metadata": {
        "colab": {
          "base_uri": "https://localhost:8080/"
        },
        "id": "E0nyr5hc5G_p",
        "outputId": "7c683ff6-0f7f-4370-a7d4-b8dbc92749b1"
      },
      "source": [
        "time_dur1.head()"
      ],
      "execution_count": null,
      "outputs": [
        {
          "output_type": "execute_result",
          "data": {
            "text/plain": [
              "0    2277.0\n",
              "1     434.0\n",
              "2    2540.0\n",
              "3    2064.0\n",
              "4    1806.0\n",
              "dtype: float64"
            ]
          },
          "metadata": {
            "tags": []
          },
          "execution_count": 12
        }
      ]
    },
    {
      "cell_type": "code",
      "metadata": {
        "colab": {
          "base_uri": "https://localhost:8080/"
        },
        "id": "3TYYArkmCGuz",
        "outputId": "5f01bdad-0b1a-458c-a2a9-2840ab995430"
      },
      "source": [
        "time_dur2.head()"
      ],
      "execution_count": null,
      "outputs": [
        {
          "output_type": "execute_result",
          "data": {
            "text/plain": [
              "0   1 days 13:57:00\n",
              "1   0 days 07:14:00\n",
              "2   1 days 18:20:00\n",
              "3   1 days 10:24:00\n",
              "4   1 days 06:06:00\n",
              "dtype: timedelta64[ns]"
            ]
          },
          "metadata": {
            "tags": []
          },
          "execution_count": 13
        }
      ]
    },
    {
      "cell_type": "markdown",
      "metadata": {
        "id": "NrVgzDM6-MCX"
      },
      "source": [
        "#Checking th transactions that happened in less than 24hrs or 1440mins"
      ]
    },
    {
      "cell_type": "code",
      "metadata": {
        "id": "8YophNaGELjY"
      },
      "source": [
        "req_t = time_dur1 < 1440"
      ],
      "execution_count": null,
      "outputs": []
    },
    {
      "cell_type": "code",
      "metadata": {
        "colab": {
          "base_uri": "https://localhost:8080/"
        },
        "id": "gvy9IFPv6xtq",
        "outputId": "03415d70-34cd-403c-ddf8-1c9fe54941ff"
      },
      "source": [
        "req_t"
      ],
      "execution_count": null,
      "outputs": [
        {
          "output_type": "execute_result",
          "data": {
            "text/plain": [
              "0        False\n",
              "1         True\n",
              "2        False\n",
              "3        False\n",
              "4        False\n",
              "         ...  \n",
              "35035    False\n",
              "35036    False\n",
              "35037    False\n",
              "35038    False\n",
              "35039    False\n",
              "Length: 35040, dtype: bool"
            ]
          },
          "metadata": {
            "tags": []
          },
          "execution_count": 15
        }
      ]
    },
    {
      "cell_type": "code",
      "metadata": {
        "colab": {
          "base_uri": "https://localhost:8080/"
        },
        "id": "_k_N_lCfEUhx",
        "outputId": "0b5f8036-e9cd-4e0a-cd9f-a42572f6f521"
      },
      "source": [
        "req_t.value_counts()"
      ],
      "execution_count": null,
      "outputs": [
        {
          "output_type": "execute_result",
          "data": {
            "text/plain": [
              "False    18446\n",
              "True     16594\n",
              "dtype: int64"
            ]
          },
          "metadata": {
            "tags": []
          },
          "execution_count": 16
        }
      ]
    },
    {
      "cell_type": "markdown",
      "metadata": {
        "id": "RNbfr1b4-WdF"
      },
      "source": [
        "#Finding mean time in minutes"
      ]
    },
    {
      "cell_type": "code",
      "metadata": {
        "colab": {
          "base_uri": "https://localhost:8080/"
        },
        "id": "jkriNlqVYAH_",
        "outputId": "da630b80-071f-43e3-ce35-a131667dd117"
      },
      "source": [
        "np.mean(time_dur1)"
      ],
      "execution_count": null,
      "outputs": [
        {
          "output_type": "execute_result",
          "data": {
            "text/plain": [
              "1217.3757379673793"
            ]
          },
          "metadata": {
            "tags": []
          },
          "execution_count": 17
        }
      ]
    },
    {
      "cell_type": "code",
      "metadata": {
        "colab": {
          "base_uri": "https://localhost:8080/"
        },
        "id": "6BiRcSXRYNCf",
        "outputId": "3e624f08-85bd-4615-9455-8c7b5497fec8"
      },
      "source": [
        "avg_time = np.mean(time_dur1)/60\n",
        "print(avg_time)"
      ],
      "execution_count": null,
      "outputs": [
        {
          "output_type": "stream",
          "text": [
            "20.289595632789656\n"
          ],
          "name": "stdout"
        }
      ]
    },
    {
      "cell_type": "markdown",
      "metadata": {
        "id": "rZY9N7GT-cJP"
      },
      "source": [
        "##Plotting graphs to find peak transaction values using different modes"
      ]
    },
    {
      "cell_type": "code",
      "metadata": {
        "colab": {
          "base_uri": "https://localhost:8080/",
          "height": 297
        },
        "id": "QathFmubZynB",
        "outputId": "ef2373e2-7fbb-4be0-a952-44f881f8e7c0"
      },
      "source": [
        "sns.countplot(data=data, x='Payment Type')"
      ],
      "execution_count": null,
      "outputs": [
        {
          "output_type": "execute_result",
          "data": {
            "text/plain": [
              "<matplotlib.axes._subplots.AxesSubplot at 0x7f71ae794950>"
            ]
          },
          "metadata": {
            "tags": []
          },
          "execution_count": 19
        },
        {
          "output_type": "display_data",
          "data": {
            "image/png": "[encoded data removed]",
            "text/plain": [
              "<Figure size 432x288 with 1 Axes>"
            ]
          },
          "metadata": {
            "tags": [],
            "needs_background": "light"
          }
        }
      ]
    },
    {
      "cell_type": "markdown",
      "metadata": {
        "id": "J0An51s2-nKT"
      },
      "source": [
        "#Payment type with max transaction fee"
      ]
    },
    {
      "cell_type": "code",
      "metadata": {
        "colab": {
          "base_uri": "https://localhost:8080/",
          "height": 283
        },
        "id": "iTGeUta_aae6",
        "outputId": "310b05dd-e760-4897-e7bb-77635b6650c5"
      },
      "source": [
        "plt.bar(data['Payment Type'], data['Transaction fee'])"
      ],
      "execution_count": null,
      "outputs": [
        {
          "output_type": "execute_result",
          "data": {
            "text/plain": [
              "<BarContainer object of 35040 artists>"
            ]
          },
          "metadata": {
            "tags": []
          },
          "execution_count": 20
        },
        {
          "output_type": "display_data",
          "data": {
            "image/png": "[encoded data removed]",
            "text/plain": [
              "<Figure size 432x288 with 1 Axes>"
            ]
          },
          "metadata": {
            "tags": [],
            "needs_background": "light"
          }
        }
      ]
    },
    {
      "cell_type": "code",
      "metadata": {
        "colab": {
          "base_uri": "https://localhost:8080/"
        },
        "id": "sF3Bcw4mbXaZ",
        "outputId": "e6b5c797-ae99-44ad-9b5f-61faa9b134d0"
      },
      "source": [
        "data['Transaction fee'].max()"
      ],
      "execution_count": null,
      "outputs": [
        {
          "output_type": "execute_result",
          "data": {
            "text/plain": [
              "4898.62"
            ]
          },
          "metadata": {
            "tags": []
          },
          "execution_count": 21
        }
      ]
    },
    {
      "cell_type": "markdown",
      "metadata": {
        "id": "PsFSlmqD-yxZ"
      },
      "source": [
        "##Finding day wise sales"
      ]
    },
    {
      "cell_type": "code",
      "metadata": {
        "id": "zZCuP9rfZxEC"
      },
      "source": [
        "data['Day'] = data['Date of Transaction'].dt.day_name()"
      ],
      "execution_count": null,
      "outputs": []
    },
    {
      "cell_type": "code",
      "metadata": {
        "colab": {
          "base_uri": "https://localhost:8080/",
          "height": 221
        },
        "id": "SVY3d2gkbCgQ",
        "outputId": "b1657de2-cc08-45a8-cee8-d819af69744e"
      },
      "source": [
        "data.head()"
      ],
      "execution_count": null,
      "outputs": [
        {
          "output_type": "execute_result",
          "data": {
            "text/html": [
              "<div>\n",
              "<style scoped>\n",
              "    .dataframe tbody tr th:only-of-type {\n",
              "        vertical-align: middle;\n",
              "    }\n",
              "\n",
              "    .dataframe tbody tr th {\n",
              "        vertical-align: top;\n",
              "    }\n",
              "\n",
              "    .dataframe thead th {\n",
              "        text-align: right;\n",
              "    }\n",
              "</style>\n",
              "<table border=\"1\" class=\"dataframe\">\n",
              "  <thead>\n",
              "    <tr style=\"text-align: right;\">\n",
              "      <th></th>\n",
              "      <th>Merchant ID</th>\n",
              "      <th>Transaction ID</th>\n",
              "      <th>Date of Transaction</th>\n",
              "      <th>Settlement Date</th>\n",
              "      <th>Requested Action</th>\n",
              "      <th>Status</th>\n",
              "      <th>Transaction amount</th>\n",
              "      <th>Transaction fee</th>\n",
              "      <th>Payment Type</th>\n",
              "      <th>Day</th>\n",
              "    </tr>\n",
              "  </thead>\n",
              "  <tbody>\n",
              "    <tr>\n",
              "      <th>0</th>\n",
              "      <td>9511450</td>\n",
              "      <td>9410106299</td>\n",
              "      <td>2021-07-14 10:03:00</td>\n",
              "      <td>2021-07-16</td>\n",
              "      <td>capture</td>\n",
              "      <td>SUCCESS</td>\n",
              "      <td>300.0</td>\n",
              "      <td>21.24</td>\n",
              "      <td>NB</td>\n",
              "      <td>Wednesday</td>\n",
              "    </tr>\n",
              "    <tr>\n",
              "      <th>1</th>\n",
              "      <td>9639200</td>\n",
              "      <td>9406287755</td>\n",
              "      <td>2021-07-13 16:46:00</td>\n",
              "      <td>2021-07-14</td>\n",
              "      <td>capture</td>\n",
              "      <td>SUCCESS</td>\n",
              "      <td>2200.0</td>\n",
              "      <td>22.42</td>\n",
              "      <td>NB</td>\n",
              "      <td>Tuesday</td>\n",
              "    </tr>\n",
              "    <tr>\n",
              "      <th>2</th>\n",
              "      <td>9682368</td>\n",
              "      <td>8070594039</td>\n",
              "      <td>2021-07-11 05:40:00</td>\n",
              "      <td>2021-07-13</td>\n",
              "      <td>capture</td>\n",
              "      <td>SUCCESS</td>\n",
              "      <td>5450.0</td>\n",
              "      <td>22.42</td>\n",
              "      <td>NB</td>\n",
              "      <td>Sunday</td>\n",
              "    </tr>\n",
              "    <tr>\n",
              "      <th>3</th>\n",
              "      <td>9682368</td>\n",
              "      <td>8070598614</td>\n",
              "      <td>2021-07-11 13:36:00</td>\n",
              "      <td>2021-07-13</td>\n",
              "      <td>capture</td>\n",
              "      <td>SUCCESS</td>\n",
              "      <td>5450.0</td>\n",
              "      <td>22.42</td>\n",
              "      <td>NB</td>\n",
              "      <td>Sunday</td>\n",
              "    </tr>\n",
              "    <tr>\n",
              "      <th>4</th>\n",
              "      <td>9682368</td>\n",
              "      <td>8070601263</td>\n",
              "      <td>2021-07-11 17:54:00</td>\n",
              "      <td>2021-07-13</td>\n",
              "      <td>capture</td>\n",
              "      <td>SUCCESS</td>\n",
              "      <td>2725.0</td>\n",
              "      <td>22.42</td>\n",
              "      <td>NB</td>\n",
              "      <td>Sunday</td>\n",
              "    </tr>\n",
              "  </tbody>\n",
              "</table>\n",
              "</div>"
            ],
            "text/plain": [
              "   Merchant ID  Transaction ID  ... Payment Type        Day\n",
              "0      9511450      9410106299  ...           NB  Wednesday\n",
              "1      9639200      9406287755  ...           NB    Tuesday\n",
              "2      9682368      8070594039  ...           NB     Sunday\n",
              "3      9682368      8070598614  ...           NB     Sunday\n",
              "4      9682368      8070601263  ...           NB     Sunday\n",
              "\n",
              "[5 rows x 10 columns]"
            ]
          },
          "metadata": {
            "tags": []
          },
          "execution_count": 23
        }
      ]
    },
    {
      "cell_type": "code",
      "metadata": {
        "id": "coL8IvOaephE"
      },
      "source": [
        "data.resample('Data', on='Date_Time').mean()"
      ],
      "execution_count": null,
      "outputs": []
    },
    {
      "cell_type": "code",
      "metadata": {
        "id": "w1xVYvB7ebvD"
      },
      "source": [
        "data_new = data[['Date of Transaction', 'Transaction amount', 'Day']]"
      ],
      "execution_count": null,
      "outputs": []
    },
    {
      "cell_type": "code",
      "metadata": {
        "colab": {
          "base_uri": "https://localhost:8080/",
          "height": 204
        },
        "id": "MhQR_o9Cfo5l",
        "outputId": "282c33ea-3e1e-4dce-9601-174da3dd48a1"
      },
      "source": [
        "data_new.head()"
      ],
      "execution_count": null,
      "outputs": [
        {
          "output_type": "execute_result",
          "data": {
            "text/html": [
              "<div>\n",
              "<style scoped>\n",
              "    .dataframe tbody tr th:only-of-type {\n",
              "        vertical-align: middle;\n",
              "    }\n",
              "\n",
              "    .dataframe tbody tr th {\n",
              "        vertical-align: top;\n",
              "    }\n",
              "\n",
              "    .dataframe thead th {\n",
              "        text-align: right;\n",
              "    }\n",
              "</style>\n",
              "<table border=\"1\" class=\"dataframe\">\n",
              "  <thead>\n",
              "    <tr style=\"text-align: right;\">\n",
              "      <th></th>\n",
              "      <th>Date of Transaction</th>\n",
              "      <th>Transaction amount</th>\n",
              "      <th>Day</th>\n",
              "    </tr>\n",
              "  </thead>\n",
              "  <tbody>\n",
              "    <tr>\n",
              "      <th>0</th>\n",
              "      <td>2021-07-14 10:03:00</td>\n",
              "      <td>300.0</td>\n",
              "      <td>Wednesday</td>\n",
              "    </tr>\n",
              "    <tr>\n",
              "      <th>1</th>\n",
              "      <td>2021-07-13 16:46:00</td>\n",
              "      <td>2200.0</td>\n",
              "      <td>Tuesday</td>\n",
              "    </tr>\n",
              "    <tr>\n",
              "      <th>2</th>\n",
              "      <td>2021-07-11 05:40:00</td>\n",
              "      <td>5450.0</td>\n",
              "      <td>Sunday</td>\n",
              "    </tr>\n",
              "    <tr>\n",
              "      <th>3</th>\n",
              "      <td>2021-07-11 13:36:00</td>\n",
              "      <td>5450.0</td>\n",
              "      <td>Sunday</td>\n",
              "    </tr>\n",
              "    <tr>\n",
              "      <th>4</th>\n",
              "      <td>2021-07-11 17:54:00</td>\n",
              "      <td>2725.0</td>\n",
              "      <td>Sunday</td>\n",
              "    </tr>\n",
              "  </tbody>\n",
              "</table>\n",
              "</div>"
            ],
            "text/plain": [
              "  Date of Transaction  Transaction amount        Day\n",
              "0 2021-07-14 10:03:00               300.0  Wednesday\n",
              "1 2021-07-13 16:46:00              2200.0    Tuesday\n",
              "2 2021-07-11 05:40:00              5450.0     Sunday\n",
              "3 2021-07-11 13:36:00              5450.0     Sunday\n",
              "4 2021-07-11 17:54:00              2725.0     Sunday"
            ]
          },
          "metadata": {
            "tags": []
          },
          "execution_count": 27
        }
      ]
    },
    {
      "cell_type": "code",
      "metadata": {
        "id": "G4xddPgqg_zJ"
      },
      "source": [
        "d2 = pd.DatetimeIndex(data_new['Date of Transaction']).hour"
      ],
      "execution_count": null,
      "outputs": []
    },
    {
      "cell_type": "code",
      "metadata": {
        "id": "8jVr4UfniBYa"
      },
      "source": [
        "d2 = pd.Series(data=d2)"
      ],
      "execution_count": null,
      "outputs": []
    },
    {
      "cell_type": "code",
      "metadata": {
        "id": "fiGwI_IEihPU"
      },
      "source": [
        "d2 = d2.rename('hours')"
      ],
      "execution_count": null,
      "outputs": []
    },
    {
      "cell_type": "code",
      "metadata": {
        "id": "YOgxqx2hi8wq"
      },
      "source": [
        "data2 = pd.concat([data_new, d2], axis=1)"
      ],
      "execution_count": null,
      "outputs": []
    },
    {
      "cell_type": "code",
      "metadata": {
        "id": "HqysMOjZj9yQ"
      },
      "source": [
        "data2.drop('Date of Transaction', inplace=True, axis=1)"
      ],
      "execution_count": null,
      "outputs": []
    },
    {
      "cell_type": "code",
      "metadata": {
        "colab": {
          "base_uri": "https://localhost:8080/",
          "height": 204
        },
        "id": "4iMK0o6XjZQx",
        "outputId": "31320bc5-ebba-462d-acb1-a6adf5d5c7d6"
      },
      "source": [
        "data2.head()"
      ],
      "execution_count": null,
      "outputs": [
        {
          "output_type": "execute_result",
          "data": {
            "text/html": [
              "<div>\n",
              "<style scoped>\n",
              "    .dataframe tbody tr th:only-of-type {\n",
              "        vertical-align: middle;\n",
              "    }\n",
              "\n",
              "    .dataframe tbody tr th {\n",
              "        vertical-align: top;\n",
              "    }\n",
              "\n",
              "    .dataframe thead th {\n",
              "        text-align: right;\n",
              "    }\n",
              "</style>\n",
              "<table border=\"1\" class=\"dataframe\">\n",
              "  <thead>\n",
              "    <tr style=\"text-align: right;\">\n",
              "      <th></th>\n",
              "      <th>Transaction amount</th>\n",
              "      <th>Day</th>\n",
              "      <th>hours</th>\n",
              "    </tr>\n",
              "  </thead>\n",
              "  <tbody>\n",
              "    <tr>\n",
              "      <th>0</th>\n",
              "      <td>300.0</td>\n",
              "      <td>Wednesday</td>\n",
              "      <td>10</td>\n",
              "    </tr>\n",
              "    <tr>\n",
              "      <th>1</th>\n",
              "      <td>2200.0</td>\n",
              "      <td>Tuesday</td>\n",
              "      <td>16</td>\n",
              "    </tr>\n",
              "    <tr>\n",
              "      <th>2</th>\n",
              "      <td>5450.0</td>\n",
              "      <td>Sunday</td>\n",
              "      <td>5</td>\n",
              "    </tr>\n",
              "    <tr>\n",
              "      <th>3</th>\n",
              "      <td>5450.0</td>\n",
              "      <td>Sunday</td>\n",
              "      <td>13</td>\n",
              "    </tr>\n",
              "    <tr>\n",
              "      <th>4</th>\n",
              "      <td>2725.0</td>\n",
              "      <td>Sunday</td>\n",
              "      <td>17</td>\n",
              "    </tr>\n",
              "  </tbody>\n",
              "</table>\n",
              "</div>"
            ],
            "text/plain": [
              "   Transaction amount        Day  hours\n",
              "0               300.0  Wednesday     10\n",
              "1              2200.0    Tuesday     16\n",
              "2              5450.0     Sunday      5\n",
              "3              5450.0     Sunday     13\n",
              "4              2725.0     Sunday     17"
            ]
          },
          "metadata": {
            "tags": []
          },
          "execution_count": 33
        }
      ]
    },
    {
      "cell_type": "code",
      "metadata": {
        "id": "WjSDaRf66Ffn"
      },
      "source": [
        "data2.to_csv('ques.csv')"
      ],
      "execution_count": null,
      "outputs": []
    },
    {
      "cell_type": "markdown",
      "metadata": {
        "id": "OX-LrFcj-3N7"
      },
      "source": [
        "##Plotting graph for day-wise sales"
      ]
    },
    {
      "cell_type": "code",
      "metadata": {
        "colab": {
          "base_uri": "https://localhost:8080/",
          "height": 606
        },
        "id": "jL6wh1VWliIx",
        "outputId": "e65ca7cc-e8b7-40f8-af6b-ebf7e9208445"
      },
      "source": [
        "fig = plt.gcf();\n",
        "fig.set_size_inches(20, 10);\n",
        "sns.countplot(data=data2, x='hours', hue='Day');\n",
        "plt.savefig('foo.png')"
      ],
      "execution_count": null,
      "outputs": [
        {
          "output_type": "display_data",
          "data": {
            "image/png": "[encoded data removed]",
            "text/plain": [
              "<Figure size 1440x720 with 1 Axes>"
            ]
          },
          "metadata": {
            "tags": [],
            "needs_background": "light"
          }
        }
      ]
    },
    {
      "cell_type": "code",
      "metadata": {
        "colab": {
          "base_uri": "https://localhost:8080/",
          "height": 221
        },
        "id": "-Vb3aHkdcbyQ",
        "outputId": "47bef279-a5d3-4b2a-e5a0-b97132ffad06"
      },
      "source": [
        "data.head()"
      ],
      "execution_count": null,
      "outputs": [
        {
          "output_type": "execute_result",
          "data": {
            "text/html": [
              "<div>\n",
              "<style scoped>\n",
              "    .dataframe tbody tr th:only-of-type {\n",
              "        vertical-align: middle;\n",
              "    }\n",
              "\n",
              "    .dataframe tbody tr th {\n",
              "        vertical-align: top;\n",
              "    }\n",
              "\n",
              "    .dataframe thead th {\n",
              "        text-align: right;\n",
              "    }\n",
              "</style>\n",
              "<table border=\"1\" class=\"dataframe\">\n",
              "  <thead>\n",
              "    <tr style=\"text-align: right;\">\n",
              "      <th></th>\n",
              "      <th>Merchant ID</th>\n",
              "      <th>Transaction ID</th>\n",
              "      <th>Date of Transaction</th>\n",
              "      <th>Settlement Date</th>\n",
              "      <th>Requested Action</th>\n",
              "      <th>Status</th>\n",
              "      <th>Transaction amount</th>\n",
              "      <th>Transaction fee</th>\n",
              "      <th>Payment Type</th>\n",
              "      <th>Day</th>\n",
              "    </tr>\n",
              "  </thead>\n",
              "  <tbody>\n",
              "    <tr>\n",
              "      <th>0</th>\n",
              "      <td>9511450</td>\n",
              "      <td>9410106299</td>\n",
              "      <td>2021-07-14 10:03:00</td>\n",
              "      <td>2021-07-16</td>\n",
              "      <td>capture</td>\n",
              "      <td>SUCCESS</td>\n",
              "      <td>300.0</td>\n",
              "      <td>21.24</td>\n",
              "      <td>NB</td>\n",
              "      <td>Wednesday</td>\n",
              "    </tr>\n",
              "    <tr>\n",
              "      <th>1</th>\n",
              "      <td>9639200</td>\n",
              "      <td>9406287755</td>\n",
              "      <td>2021-07-13 16:46:00</td>\n",
              "      <td>2021-07-14</td>\n",
              "      <td>capture</td>\n",
              "      <td>SUCCESS</td>\n",
              "      <td>2200.0</td>\n",
              "      <td>22.42</td>\n",
              "      <td>NB</td>\n",
              "      <td>Tuesday</td>\n",
              "    </tr>\n",
              "    <tr>\n",
              "      <th>2</th>\n",
              "      <td>9682368</td>\n",
              "      <td>8070594039</td>\n",
              "      <td>2021-07-11 05:40:00</td>\n",
              "      <td>2021-07-13</td>\n",
              "      <td>capture</td>\n",
              "      <td>SUCCESS</td>\n",
              "      <td>5450.0</td>\n",
              "      <td>22.42</td>\n",
              "      <td>NB</td>\n",
              "      <td>Sunday</td>\n",
              "    </tr>\n",
              "    <tr>\n",
              "      <th>3</th>\n",
              "      <td>9682368</td>\n",
              "      <td>8070598614</td>\n",
              "      <td>2021-07-11 13:36:00</td>\n",
              "      <td>2021-07-13</td>\n",
              "      <td>capture</td>\n",
              "      <td>SUCCESS</td>\n",
              "      <td>5450.0</td>\n",
              "      <td>22.42</td>\n",
              "      <td>NB</td>\n",
              "      <td>Sunday</td>\n",
              "    </tr>\n",
              "    <tr>\n",
              "      <th>4</th>\n",
              "      <td>9682368</td>\n",
              "      <td>8070601263</td>\n",
              "      <td>2021-07-11 17:54:00</td>\n",
              "      <td>2021-07-13</td>\n",
              "      <td>capture</td>\n",
              "      <td>SUCCESS</td>\n",
              "      <td>2725.0</td>\n",
              "      <td>22.42</td>\n",
              "      <td>NB</td>\n",
              "      <td>Sunday</td>\n",
              "    </tr>\n",
              "  </tbody>\n",
              "</table>\n",
              "</div>"
            ],
            "text/plain": [
              "   Merchant ID  Transaction ID  ... Payment Type        Day\n",
              "0      9511450      9410106299  ...           NB  Wednesday\n",
              "1      9639200      9406287755  ...           NB    Tuesday\n",
              "2      9682368      8070594039  ...           NB     Sunday\n",
              "3      9682368      8070598614  ...           NB     Sunday\n",
              "4      9682368      8070601263  ...           NB     Sunday\n",
              "\n",
              "[5 rows x 10 columns]"
            ]
          },
          "metadata": {
            "tags": []
          },
          "execution_count": 35
        }
      ]
    },
    {
      "cell_type": "markdown",
      "metadata": {
        "id": "Dz2fePjw-9MX"
      },
      "source": [
        "##Creating table for a specific date"
      ]
    },
    {
      "cell_type": "code",
      "metadata": {
        "id": "ch_hwLpgmpgr"
      },
      "source": [
        "data3 = data.loc[(data['Date of Transaction'] >= '2021-07-14') & (data['Date of Transaction'] < '2021-07-15')]"
      ],
      "execution_count": null,
      "outputs": []
    },
    {
      "cell_type": "code",
      "metadata": {
        "colab": {
          "base_uri": "https://localhost:8080/",
          "height": 436
        },
        "id": "6wdOCjQ2opvf",
        "outputId": "d6002884-d587-4cf5-9742-994b2f3acc6a"
      },
      "source": [
        "data3"
      ],
      "execution_count": null,
      "outputs": [
        {
          "output_type": "execute_result",
          "data": {
            "text/html": [
              "<div>\n",
              "<style scoped>\n",
              "    .dataframe tbody tr th:only-of-type {\n",
              "        vertical-align: middle;\n",
              "    }\n",
              "\n",
              "    .dataframe tbody tr th {\n",
              "        vertical-align: top;\n",
              "    }\n",
              "\n",
              "    .dataframe thead th {\n",
              "        text-align: right;\n",
              "    }\n",
              "</style>\n",
              "<table border=\"1\" class=\"dataframe\">\n",
              "  <thead>\n",
              "    <tr style=\"text-align: right;\">\n",
              "      <th></th>\n",
              "      <th>Merchant ID</th>\n",
              "      <th>Transaction ID</th>\n",
              "      <th>Date of Transaction</th>\n",
              "      <th>Settlement Date</th>\n",
              "      <th>Requested Action</th>\n",
              "      <th>Status</th>\n",
              "      <th>Transaction amount</th>\n",
              "      <th>Transaction fee</th>\n",
              "      <th>Payment Type</th>\n",
              "      <th>Day</th>\n",
              "    </tr>\n",
              "  </thead>\n",
              "  <tbody>\n",
              "    <tr>\n",
              "      <th>0</th>\n",
              "      <td>9511450</td>\n",
              "      <td>9410106299</td>\n",
              "      <td>2021-07-14 10:03:00</td>\n",
              "      <td>2021-07-16</td>\n",
              "      <td>capture</td>\n",
              "      <td>SUCCESS</td>\n",
              "      <td>300.00</td>\n",
              "      <td>21.24</td>\n",
              "      <td>NB</td>\n",
              "      <td>Wednesday</td>\n",
              "    </tr>\n",
              "    <tr>\n",
              "      <th>9</th>\n",
              "      <td>9682368</td>\n",
              "      <td>9414639437</td>\n",
              "      <td>2021-07-14 21:19:00</td>\n",
              "      <td>2021-07-15</td>\n",
              "      <td>capture</td>\n",
              "      <td>SUCCESS</td>\n",
              "      <td>5450.00</td>\n",
              "      <td>22.42</td>\n",
              "      <td>NB</td>\n",
              "      <td>Wednesday</td>\n",
              "    </tr>\n",
              "    <tr>\n",
              "      <th>14</th>\n",
              "      <td>9511450</td>\n",
              "      <td>9411987561</td>\n",
              "      <td>2021-07-14 14:31:00</td>\n",
              "      <td>2021-07-16</td>\n",
              "      <td>capture</td>\n",
              "      <td>SUCCESS</td>\n",
              "      <td>300.00</td>\n",
              "      <td>21.24</td>\n",
              "      <td>NB</td>\n",
              "      <td>Wednesday</td>\n",
              "    </tr>\n",
              "    <tr>\n",
              "      <th>18</th>\n",
              "      <td>9682368</td>\n",
              "      <td>9415171189</td>\n",
              "      <td>2021-07-14 22:51:00</td>\n",
              "      <td>2021-07-15</td>\n",
              "      <td>capture</td>\n",
              "      <td>SUCCESS</td>\n",
              "      <td>5700.00</td>\n",
              "      <td>22.42</td>\n",
              "      <td>NB</td>\n",
              "      <td>Wednesday</td>\n",
              "    </tr>\n",
              "    <tr>\n",
              "      <th>19</th>\n",
              "      <td>9709540</td>\n",
              "      <td>9409000767</td>\n",
              "      <td>2021-07-14 00:10:00</td>\n",
              "      <td>NaT</td>\n",
              "      <td>capture</td>\n",
              "      <td>SUCCESS</td>\n",
              "      <td>10000.00</td>\n",
              "      <td>20.06</td>\n",
              "      <td>NB</td>\n",
              "      <td>Wednesday</td>\n",
              "    </tr>\n",
              "    <tr>\n",
              "      <th>...</th>\n",
              "      <td>...</td>\n",
              "      <td>...</td>\n",
              "      <td>...</td>\n",
              "      <td>...</td>\n",
              "      <td>...</td>\n",
              "      <td>...</td>\n",
              "      <td>...</td>\n",
              "      <td>...</td>\n",
              "      <td>...</td>\n",
              "      <td>...</td>\n",
              "    </tr>\n",
              "    <tr>\n",
              "      <th>34989</th>\n",
              "      <td>14773512</td>\n",
              "      <td>9415339781</td>\n",
              "      <td>2021-07-14 23:30:00</td>\n",
              "      <td>2021-07-15</td>\n",
              "      <td>capture</td>\n",
              "      <td>SUCCESS</td>\n",
              "      <td>13240.00</td>\n",
              "      <td>174.12</td>\n",
              "      <td>CC</td>\n",
              "      <td>Wednesday</td>\n",
              "    </tr>\n",
              "    <tr>\n",
              "      <th>34998</th>\n",
              "      <td>14811686</td>\n",
              "      <td>9410316795</td>\n",
              "      <td>2021-07-14 10:35:00</td>\n",
              "      <td>NaT</td>\n",
              "      <td>capture</td>\n",
              "      <td>SUCCESS</td>\n",
              "      <td>3482.18</td>\n",
              "      <td>0.00</td>\n",
              "      <td>DC</td>\n",
              "      <td>Wednesday</td>\n",
              "    </tr>\n",
              "    <tr>\n",
              "      <th>35000</th>\n",
              "      <td>14823548</td>\n",
              "      <td>9414789127</td>\n",
              "      <td>2021-07-14 21:44:00</td>\n",
              "      <td>2021-07-15</td>\n",
              "      <td>capture</td>\n",
              "      <td>SUCCESS</td>\n",
              "      <td>7000.00</td>\n",
              "      <td>83.59</td>\n",
              "      <td>DC</td>\n",
              "      <td>Wednesday</td>\n",
              "    </tr>\n",
              "    <tr>\n",
              "      <th>35012</th>\n",
              "      <td>14712218</td>\n",
              "      <td>9414548725</td>\n",
              "      <td>2021-07-14 21:04:00</td>\n",
              "      <td>2021-07-15</td>\n",
              "      <td>capture</td>\n",
              "      <td>SUCCESS</td>\n",
              "      <td>7160.00</td>\n",
              "      <td>173.06</td>\n",
              "      <td>Wallet</td>\n",
              "      <td>Wednesday</td>\n",
              "    </tr>\n",
              "    <tr>\n",
              "      <th>35017</th>\n",
              "      <td>14823548</td>\n",
              "      <td>9414287371</td>\n",
              "      <td>2021-07-14 20:26:00</td>\n",
              "      <td>2021-07-15</td>\n",
              "      <td>capture</td>\n",
              "      <td>SUCCESS</td>\n",
              "      <td>1000.00</td>\n",
              "      <td>21.70</td>\n",
              "      <td>Wallet</td>\n",
              "      <td>Wednesday</td>\n",
              "    </tr>\n",
              "  </tbody>\n",
              "</table>\n",
              "<p>8023 rows × 10 columns</p>\n",
              "</div>"
            ],
            "text/plain": [
              "       Merchant ID  Transaction ID  ... Payment Type        Day\n",
              "0          9511450      9410106299  ...           NB  Wednesday\n",
              "9          9682368      9414639437  ...           NB  Wednesday\n",
              "14         9511450      9411987561  ...           NB  Wednesday\n",
              "18         9682368      9415171189  ...           NB  Wednesday\n",
              "19         9709540      9409000767  ...           NB  Wednesday\n",
              "...            ...             ...  ...          ...        ...\n",
              "34989     14773512      9415339781  ...           CC  Wednesday\n",
              "34998     14811686      9410316795  ...           DC  Wednesday\n",
              "35000     14823548      9414789127  ...           DC  Wednesday\n",
              "35012     14712218      9414548725  ...       Wallet  Wednesday\n",
              "35017     14823548      9414287371  ...       Wallet  Wednesday\n",
              "\n",
              "[8023 rows x 10 columns]"
            ]
          },
          "metadata": {
            "tags": []
          },
          "execution_count": 37
        }
      ]
    },
    {
      "cell_type": "markdown",
      "metadata": {
        "id": "dnD0Jlt4_DyF"
      },
      "source": [
        "Plotting graph to find transaction mode used by most on 14th"
      ]
    },
    {
      "cell_type": "code",
      "metadata": {
        "colab": {
          "base_uri": "https://localhost:8080/",
          "height": 279
        },
        "id": "ssuCEyMUnPwy",
        "outputId": "38780316-4b01-429e-c928-c9cb4aa43d94"
      },
      "source": [
        "sns.countplot(data=data3, x='Payment Type');"
      ],
      "execution_count": null,
      "outputs": [
        {
          "output_type": "display_data",
          "data": {
            "image/png": "[encoded data removed]",
            "text/plain": [
              "<Figure size 432x288 with 1 Axes>"
            ]
          },
          "metadata": {
            "tags": [],
            "needs_background": "light"
          }
        }
      ]
    },
    {
      "cell_type": "code",
      "metadata": {
        "id": "i-KLJB_vqZnU"
      },
      "source": [
        "column = data3['Transaction amount']\n",
        "max_value = column. max()"
      ],
      "execution_count": null,
      "outputs": []
    },
    {
      "cell_type": "code",
      "metadata": {
        "colab": {
          "base_uri": "https://localhost:8080/"
        },
        "id": "a-dX-YrirKAH",
        "outputId": "54065254-c348-4091-8e22-e4f58b670562"
      },
      "source": [
        "max_value"
      ],
      "execution_count": null,
      "outputs": [
        {
          "output_type": "execute_result",
          "data": {
            "text/plain": [
              "177400.0"
            ]
          },
          "metadata": {
            "tags": []
          },
          "execution_count": 40
        }
      ]
    },
    {
      "cell_type": "markdown",
      "metadata": {
        "id": "IqaR3Kzd_PAe"
      },
      "source": [
        "#Merchant ID having max transaction amount"
      ]
    },
    {
      "cell_type": "code",
      "metadata": {
        "colab": {
          "base_uri": "https://localhost:8080/",
          "height": 97
        },
        "id": "5cPkOMFNotVP",
        "outputId": "0162e1e2-c1e5-4c8c-a343-3ef73072ec46"
      },
      "source": [
        "data3.loc[data3['Transaction amount']==max_value]"
      ],
      "execution_count": null,
      "outputs": [
        {
          "output_type": "execute_result",
          "data": {
            "text/html": [
              "<div>\n",
              "<style scoped>\n",
              "    .dataframe tbody tr th:only-of-type {\n",
              "        vertical-align: middle;\n",
              "    }\n",
              "\n",
              "    .dataframe tbody tr th {\n",
              "        vertical-align: top;\n",
              "    }\n",
              "\n",
              "    .dataframe thead th {\n",
              "        text-align: right;\n",
              "    }\n",
              "</style>\n",
              "<table border=\"1\" class=\"dataframe\">\n",
              "  <thead>\n",
              "    <tr style=\"text-align: right;\">\n",
              "      <th></th>\n",
              "      <th>Merchant ID</th>\n",
              "      <th>Transaction ID</th>\n",
              "      <th>Date of Transaction</th>\n",
              "      <th>Settlement Date</th>\n",
              "      <th>Requested Action</th>\n",
              "      <th>Status</th>\n",
              "      <th>Transaction amount</th>\n",
              "      <th>Transaction fee</th>\n",
              "      <th>Payment Type</th>\n",
              "      <th>Day</th>\n",
              "    </tr>\n",
              "  </thead>\n",
              "  <tbody>\n",
              "    <tr>\n",
              "      <th>14916</th>\n",
              "      <td>11508728</td>\n",
              "      <td>9413382975</td>\n",
              "      <td>2021-07-14 18:14:00</td>\n",
              "      <td>2021-07-16</td>\n",
              "      <td>capture</td>\n",
              "      <td>SUCCESS</td>\n",
              "      <td>177400.0</td>\n",
              "      <td>25.96</td>\n",
              "      <td>NB</td>\n",
              "      <td>Wednesday</td>\n",
              "    </tr>\n",
              "  </tbody>\n",
              "</table>\n",
              "</div>"
            ],
            "text/plain": [
              "       Merchant ID  Transaction ID  ... Payment Type        Day\n",
              "14916     11508728      9413382975  ...           NB  Wednesday\n",
              "\n",
              "[1 rows x 10 columns]"
            ]
          },
          "metadata": {
            "tags": []
          },
          "execution_count": 41
        }
      ]
    },
    {
      "cell_type": "code",
      "metadata": {
        "colab": {
          "base_uri": "https://localhost:8080/",
          "height": 436
        },
        "id": "zaekBPRkpUtC",
        "outputId": "839a5a43-33aa-410a-bc09-f92dd4b45bc5"
      },
      "source": [
        "data3.loc[(data['Settlement Date'] < '2021-07-16')]"
      ],
      "execution_count": null,
      "outputs": [
        {
          "output_type": "execute_result",
          "data": {
            "text/html": [
              "<div>\n",
              "<style scoped>\n",
              "    .dataframe tbody tr th:only-of-type {\n",
              "        vertical-align: middle;\n",
              "    }\n",
              "\n",
              "    .dataframe tbody tr th {\n",
              "        vertical-align: top;\n",
              "    }\n",
              "\n",
              "    .dataframe thead th {\n",
              "        text-align: right;\n",
              "    }\n",
              "</style>\n",
              "<table border=\"1\" class=\"dataframe\">\n",
              "  <thead>\n",
              "    <tr style=\"text-align: right;\">\n",
              "      <th></th>\n",
              "      <th>Merchant ID</th>\n",
              "      <th>Transaction ID</th>\n",
              "      <th>Date of Transaction</th>\n",
              "      <th>Settlement Date</th>\n",
              "      <th>Requested Action</th>\n",
              "      <th>Status</th>\n",
              "      <th>Transaction amount</th>\n",
              "      <th>Transaction fee</th>\n",
              "      <th>Payment Type</th>\n",
              "      <th>Day</th>\n",
              "    </tr>\n",
              "  </thead>\n",
              "  <tbody>\n",
              "    <tr>\n",
              "      <th>9</th>\n",
              "      <td>9682368</td>\n",
              "      <td>9414639437</td>\n",
              "      <td>2021-07-14 21:19:00</td>\n",
              "      <td>2021-07-15</td>\n",
              "      <td>capture</td>\n",
              "      <td>SUCCESS</td>\n",
              "      <td>5450.0</td>\n",
              "      <td>22.42</td>\n",
              "      <td>NB</td>\n",
              "      <td>Wednesday</td>\n",
              "    </tr>\n",
              "    <tr>\n",
              "      <th>18</th>\n",
              "      <td>9682368</td>\n",
              "      <td>9415171189</td>\n",
              "      <td>2021-07-14 22:51:00</td>\n",
              "      <td>2021-07-15</td>\n",
              "      <td>capture</td>\n",
              "      <td>SUCCESS</td>\n",
              "      <td>5700.0</td>\n",
              "      <td>22.42</td>\n",
              "      <td>NB</td>\n",
              "      <td>Wednesday</td>\n",
              "    </tr>\n",
              "    <tr>\n",
              "      <th>58</th>\n",
              "      <td>9682368</td>\n",
              "      <td>9410099219</td>\n",
              "      <td>2021-07-14 10:01:00</td>\n",
              "      <td>2021-07-15</td>\n",
              "      <td>capture</td>\n",
              "      <td>SUCCESS</td>\n",
              "      <td>16350.0</td>\n",
              "      <td>22.42</td>\n",
              "      <td>NB</td>\n",
              "      <td>Wednesday</td>\n",
              "    </tr>\n",
              "    <tr>\n",
              "      <th>84</th>\n",
              "      <td>9682368</td>\n",
              "      <td>9409759295</td>\n",
              "      <td>2021-07-14 09:02:00</td>\n",
              "      <td>2021-07-15</td>\n",
              "      <td>capture</td>\n",
              "      <td>SUCCESS</td>\n",
              "      <td>5450.0</td>\n",
              "      <td>22.42</td>\n",
              "      <td>NB</td>\n",
              "      <td>Wednesday</td>\n",
              "    </tr>\n",
              "    <tr>\n",
              "      <th>85</th>\n",
              "      <td>9682368</td>\n",
              "      <td>9409975159</td>\n",
              "      <td>2021-07-14 09:41:00</td>\n",
              "      <td>2021-07-15</td>\n",
              "      <td>capture</td>\n",
              "      <td>SUCCESS</td>\n",
              "      <td>5450.0</td>\n",
              "      <td>22.42</td>\n",
              "      <td>NB</td>\n",
              "      <td>Wednesday</td>\n",
              "    </tr>\n",
              "    <tr>\n",
              "      <th>...</th>\n",
              "      <td>...</td>\n",
              "      <td>...</td>\n",
              "      <td>...</td>\n",
              "      <td>...</td>\n",
              "      <td>...</td>\n",
              "      <td>...</td>\n",
              "      <td>...</td>\n",
              "      <td>...</td>\n",
              "      <td>...</td>\n",
              "      <td>...</td>\n",
              "    </tr>\n",
              "    <tr>\n",
              "      <th>34988</th>\n",
              "      <td>14773512</td>\n",
              "      <td>9410708997</td>\n",
              "      <td>2021-07-14 11:27:00</td>\n",
              "      <td>2021-07-15</td>\n",
              "      <td>capture</td>\n",
              "      <td>SUCCESS</td>\n",
              "      <td>21100.0</td>\n",
              "      <td>277.48</td>\n",
              "      <td>CC</td>\n",
              "      <td>Wednesday</td>\n",
              "    </tr>\n",
              "    <tr>\n",
              "      <th>34989</th>\n",
              "      <td>14773512</td>\n",
              "      <td>9415339781</td>\n",
              "      <td>2021-07-14 23:30:00</td>\n",
              "      <td>2021-07-15</td>\n",
              "      <td>capture</td>\n",
              "      <td>SUCCESS</td>\n",
              "      <td>13240.0</td>\n",
              "      <td>174.12</td>\n",
              "      <td>CC</td>\n",
              "      <td>Wednesday</td>\n",
              "    </tr>\n",
              "    <tr>\n",
              "      <th>35000</th>\n",
              "      <td>14823548</td>\n",
              "      <td>9414789127</td>\n",
              "      <td>2021-07-14 21:44:00</td>\n",
              "      <td>2021-07-15</td>\n",
              "      <td>capture</td>\n",
              "      <td>SUCCESS</td>\n",
              "      <td>7000.0</td>\n",
              "      <td>83.59</td>\n",
              "      <td>DC</td>\n",
              "      <td>Wednesday</td>\n",
              "    </tr>\n",
              "    <tr>\n",
              "      <th>35012</th>\n",
              "      <td>14712218</td>\n",
              "      <td>9414548725</td>\n",
              "      <td>2021-07-14 21:04:00</td>\n",
              "      <td>2021-07-15</td>\n",
              "      <td>capture</td>\n",
              "      <td>SUCCESS</td>\n",
              "      <td>7160.0</td>\n",
              "      <td>173.06</td>\n",
              "      <td>Wallet</td>\n",
              "      <td>Wednesday</td>\n",
              "    </tr>\n",
              "    <tr>\n",
              "      <th>35017</th>\n",
              "      <td>14823548</td>\n",
              "      <td>9414287371</td>\n",
              "      <td>2021-07-14 20:26:00</td>\n",
              "      <td>2021-07-15</td>\n",
              "      <td>capture</td>\n",
              "      <td>SUCCESS</td>\n",
              "      <td>1000.0</td>\n",
              "      <td>21.70</td>\n",
              "      <td>Wallet</td>\n",
              "      <td>Wednesday</td>\n",
              "    </tr>\n",
              "  </tbody>\n",
              "</table>\n",
              "<p>4534 rows × 10 columns</p>\n",
              "</div>"
            ],
            "text/plain": [
              "       Merchant ID  Transaction ID  ... Payment Type        Day\n",
              "9          9682368      9414639437  ...           NB  Wednesday\n",
              "18         9682368      9415171189  ...           NB  Wednesday\n",
              "58         9682368      9410099219  ...           NB  Wednesday\n",
              "84         9682368      9409759295  ...           NB  Wednesday\n",
              "85         9682368      9409975159  ...           NB  Wednesday\n",
              "...            ...             ...  ...          ...        ...\n",
              "34988     14773512      9410708997  ...           CC  Wednesday\n",
              "34989     14773512      9415339781  ...           CC  Wednesday\n",
              "35000     14823548      9414789127  ...           DC  Wednesday\n",
              "35012     14712218      9414548725  ...       Wallet  Wednesday\n",
              "35017     14823548      9414287371  ...       Wallet  Wednesday\n",
              "\n",
              "[4534 rows x 10 columns]"
            ]
          },
          "metadata": {
            "tags": []
          },
          "execution_count": 42
        }
      ]
    },
    {
      "cell_type": "markdown",
      "metadata": {
        "id": "cOQ2Bfzf_env"
      },
      "source": [
        "##Section 2 questions"
      ]
    },
    {
      "cell_type": "code",
      "metadata": {
        "colab": {
          "base_uri": "https://localhost:8080/",
          "height": 221
        },
        "id": "R2P0y8DGtb6L",
        "outputId": "7fe474df-0d25-49cf-df16-9c107d828076"
      },
      "source": [
        "data.head()"
      ],
      "execution_count": null,
      "outputs": [
        {
          "output_type": "execute_result",
          "data": {
            "text/html": [
              "<div>\n",
              "<style scoped>\n",
              "    .dataframe tbody tr th:only-of-type {\n",
              "        vertical-align: middle;\n",
              "    }\n",
              "\n",
              "    .dataframe tbody tr th {\n",
              "        vertical-align: top;\n",
              "    }\n",
              "\n",
              "    .dataframe thead th {\n",
              "        text-align: right;\n",
              "    }\n",
              "</style>\n",
              "<table border=\"1\" class=\"dataframe\">\n",
              "  <thead>\n",
              "    <tr style=\"text-align: right;\">\n",
              "      <th></th>\n",
              "      <th>Merchant ID</th>\n",
              "      <th>Transaction ID</th>\n",
              "      <th>Date of Transaction</th>\n",
              "      <th>Settlement Date</th>\n",
              "      <th>Requested Action</th>\n",
              "      <th>Status</th>\n",
              "      <th>Transaction amount</th>\n",
              "      <th>Transaction fee</th>\n",
              "      <th>Payment Type</th>\n",
              "      <th>Day</th>\n",
              "    </tr>\n",
              "  </thead>\n",
              "  <tbody>\n",
              "    <tr>\n",
              "      <th>0</th>\n",
              "      <td>9511450</td>\n",
              "      <td>9410106299</td>\n",
              "      <td>2021-07-14 10:03:00</td>\n",
              "      <td>2021-07-16</td>\n",
              "      <td>capture</td>\n",
              "      <td>SUCCESS</td>\n",
              "      <td>300.0</td>\n",
              "      <td>21.24</td>\n",
              "      <td>NB</td>\n",
              "      <td>Wednesday</td>\n",
              "    </tr>\n",
              "    <tr>\n",
              "      <th>1</th>\n",
              "      <td>9639200</td>\n",
              "      <td>9406287755</td>\n",
              "      <td>2021-07-13 16:46:00</td>\n",
              "      <td>2021-07-14</td>\n",
              "      <td>capture</td>\n",
              "      <td>SUCCESS</td>\n",
              "      <td>2200.0</td>\n",
              "      <td>22.42</td>\n",
              "      <td>NB</td>\n",
              "      <td>Tuesday</td>\n",
              "    </tr>\n",
              "    <tr>\n",
              "      <th>2</th>\n",
              "      <td>9682368</td>\n",
              "      <td>8070594039</td>\n",
              "      <td>2021-07-11 05:40:00</td>\n",
              "      <td>2021-07-13</td>\n",
              "      <td>capture</td>\n",
              "      <td>SUCCESS</td>\n",
              "      <td>5450.0</td>\n",
              "      <td>22.42</td>\n",
              "      <td>NB</td>\n",
              "      <td>Sunday</td>\n",
              "    </tr>\n",
              "    <tr>\n",
              "      <th>3</th>\n",
              "      <td>9682368</td>\n",
              "      <td>8070598614</td>\n",
              "      <td>2021-07-11 13:36:00</td>\n",
              "      <td>2021-07-13</td>\n",
              "      <td>capture</td>\n",
              "      <td>SUCCESS</td>\n",
              "      <td>5450.0</td>\n",
              "      <td>22.42</td>\n",
              "      <td>NB</td>\n",
              "      <td>Sunday</td>\n",
              "    </tr>\n",
              "    <tr>\n",
              "      <th>4</th>\n",
              "      <td>9682368</td>\n",
              "      <td>8070601263</td>\n",
              "      <td>2021-07-11 17:54:00</td>\n",
              "      <td>2021-07-13</td>\n",
              "      <td>capture</td>\n",
              "      <td>SUCCESS</td>\n",
              "      <td>2725.0</td>\n",
              "      <td>22.42</td>\n",
              "      <td>NB</td>\n",
              "      <td>Sunday</td>\n",
              "    </tr>\n",
              "  </tbody>\n",
              "</table>\n",
              "</div>"
            ],
            "text/plain": [
              "   Merchant ID  Transaction ID  ... Payment Type        Day\n",
              "0      9511450      9410106299  ...           NB  Wednesday\n",
              "1      9639200      9406287755  ...           NB    Tuesday\n",
              "2      9682368      8070594039  ...           NB     Sunday\n",
              "3      9682368      8070598614  ...           NB     Sunday\n",
              "4      9682368      8070601263  ...           NB     Sunday\n",
              "\n",
              "[5 rows x 10 columns]"
            ]
          },
          "metadata": {
            "tags": []
          },
          "execution_count": 43
        }
      ]
    },
    {
      "cell_type": "code",
      "metadata": {
        "id": "3ilQg3jkup8W"
      },
      "source": [
        "d3 = data[['Merchant ID', 'Transaction amount']]"
      ],
      "execution_count": null,
      "outputs": []
    },
    {
      "cell_type": "code",
      "metadata": {
        "colab": {
          "base_uri": "https://localhost:8080/",
          "height": 419
        },
        "id": "Z9t5affGxCAh",
        "outputId": "bf242d1d-1fd4-42bc-91dc-e128919c42a6"
      },
      "source": [
        "d3"
      ],
      "execution_count": null,
      "outputs": [
        {
          "output_type": "execute_result",
          "data": {
            "text/html": [
              "<div>\n",
              "<style scoped>\n",
              "    .dataframe tbody tr th:only-of-type {\n",
              "        vertical-align: middle;\n",
              "    }\n",
              "\n",
              "    .dataframe tbody tr th {\n",
              "        vertical-align: top;\n",
              "    }\n",
              "\n",
              "    .dataframe thead th {\n",
              "        text-align: right;\n",
              "    }\n",
              "</style>\n",
              "<table border=\"1\" class=\"dataframe\">\n",
              "  <thead>\n",
              "    <tr style=\"text-align: right;\">\n",
              "      <th></th>\n",
              "      <th>Merchant ID</th>\n",
              "      <th>Transaction amount</th>\n",
              "    </tr>\n",
              "  </thead>\n",
              "  <tbody>\n",
              "    <tr>\n",
              "      <th>0</th>\n",
              "      <td>9511450</td>\n",
              "      <td>300.0</td>\n",
              "    </tr>\n",
              "    <tr>\n",
              "      <th>1</th>\n",
              "      <td>9639200</td>\n",
              "      <td>2200.0</td>\n",
              "    </tr>\n",
              "    <tr>\n",
              "      <th>2</th>\n",
              "      <td>9682368</td>\n",
              "      <td>5450.0</td>\n",
              "    </tr>\n",
              "    <tr>\n",
              "      <th>3</th>\n",
              "      <td>9682368</td>\n",
              "      <td>5450.0</td>\n",
              "    </tr>\n",
              "    <tr>\n",
              "      <th>4</th>\n",
              "      <td>9682368</td>\n",
              "      <td>2725.0</td>\n",
              "    </tr>\n",
              "    <tr>\n",
              "      <th>...</th>\n",
              "      <td>...</td>\n",
              "      <td>...</td>\n",
              "    </tr>\n",
              "    <tr>\n",
              "      <th>35035</th>\n",
              "      <td>14794168</td>\n",
              "      <td>1700.0</td>\n",
              "    </tr>\n",
              "    <tr>\n",
              "      <th>35036</th>\n",
              "      <td>14811686</td>\n",
              "      <td>4050.0</td>\n",
              "    </tr>\n",
              "    <tr>\n",
              "      <th>35037</th>\n",
              "      <td>14823548</td>\n",
              "      <td>2000.0</td>\n",
              "    </tr>\n",
              "    <tr>\n",
              "      <th>35038</th>\n",
              "      <td>14823548</td>\n",
              "      <td>20000.0</td>\n",
              "    </tr>\n",
              "    <tr>\n",
              "      <th>35039</th>\n",
              "      <td>14823548</td>\n",
              "      <td>1000.0</td>\n",
              "    </tr>\n",
              "  </tbody>\n",
              "</table>\n",
              "<p>35040 rows × 2 columns</p>\n",
              "</div>"
            ],
            "text/plain": [
              "       Merchant ID  Transaction amount\n",
              "0          9511450               300.0\n",
              "1          9639200              2200.0\n",
              "2          9682368              5450.0\n",
              "3          9682368              5450.0\n",
              "4          9682368              2725.0\n",
              "...            ...                 ...\n",
              "35035     14794168              1700.0\n",
              "35036     14811686              4050.0\n",
              "35037     14823548              2000.0\n",
              "35038     14823548             20000.0\n",
              "35039     14823548              1000.0\n",
              "\n",
              "[35040 rows x 2 columns]"
            ]
          },
          "metadata": {
            "tags": []
          },
          "execution_count": 45
        }
      ]
    },
    {
      "cell_type": "code",
      "metadata": {
        "id": "gGAR5AD5xBJj"
      },
      "source": [
        "d4 = d3.groupby('Merchant ID').sum()"
      ],
      "execution_count": null,
      "outputs": []
    },
    {
      "cell_type": "code",
      "metadata": {
        "colab": {
          "base_uri": "https://localhost:8080/",
          "height": 450
        },
        "id": "l-lKIXYLxh7T",
        "outputId": "5ab12c9e-fe0c-4130-d28f-ad744e8f03e3"
      },
      "source": [
        "d4"
      ],
      "execution_count": null,
      "outputs": [
        {
          "output_type": "execute_result",
          "data": {
            "text/html": [
              "<div>\n",
              "<style scoped>\n",
              "    .dataframe tbody tr th:only-of-type {\n",
              "        vertical-align: middle;\n",
              "    }\n",
              "\n",
              "    .dataframe tbody tr th {\n",
              "        vertical-align: top;\n",
              "    }\n",
              "\n",
              "    .dataframe thead th {\n",
              "        text-align: right;\n",
              "    }\n",
              "</style>\n",
              "<table border=\"1\" class=\"dataframe\">\n",
              "  <thead>\n",
              "    <tr style=\"text-align: right;\">\n",
              "      <th></th>\n",
              "      <th>Transaction amount</th>\n",
              "    </tr>\n",
              "    <tr>\n",
              "      <th>Merchant ID</th>\n",
              "      <th></th>\n",
              "    </tr>\n",
              "  </thead>\n",
              "  <tbody>\n",
              "    <tr>\n",
              "      <th>9511450</th>\n",
              "      <td>155700.0</td>\n",
              "    </tr>\n",
              "    <tr>\n",
              "      <th>9605176</th>\n",
              "      <td>57501.0</td>\n",
              "    </tr>\n",
              "    <tr>\n",
              "      <th>9632596</th>\n",
              "      <td>73000.0</td>\n",
              "    </tr>\n",
              "    <tr>\n",
              "      <th>9639200</th>\n",
              "      <td>156400.0</td>\n",
              "    </tr>\n",
              "    <tr>\n",
              "      <th>9645892</th>\n",
              "      <td>7500.0</td>\n",
              "    </tr>\n",
              "    <tr>\n",
              "      <th>...</th>\n",
              "      <td>...</td>\n",
              "    </tr>\n",
              "    <tr>\n",
              "      <th>14855404</th>\n",
              "      <td>1600.0</td>\n",
              "    </tr>\n",
              "    <tr>\n",
              "      <th>14865310</th>\n",
              "      <td>1600.0</td>\n",
              "    </tr>\n",
              "    <tr>\n",
              "      <th>14866852</th>\n",
              "      <td>2632.0</td>\n",
              "    </tr>\n",
              "    <tr>\n",
              "      <th>14875562</th>\n",
              "      <td>880.0</td>\n",
              "    </tr>\n",
              "    <tr>\n",
              "      <th>14888250</th>\n",
              "      <td>100.0</td>\n",
              "    </tr>\n",
              "  </tbody>\n",
              "</table>\n",
              "<p>514 rows × 1 columns</p>\n",
              "</div>"
            ],
            "text/plain": [
              "             Transaction amount\n",
              "Merchant ID                    \n",
              "9511450                155700.0\n",
              "9605176                 57501.0\n",
              "9632596                 73000.0\n",
              "9639200                156400.0\n",
              "9645892                  7500.0\n",
              "...                         ...\n",
              "14855404                 1600.0\n",
              "14865310                 1600.0\n",
              "14866852                 2632.0\n",
              "14875562                  880.0\n",
              "14888250                  100.0\n",
              "\n",
              "[514 rows x 1 columns]"
            ]
          },
          "metadata": {
            "tags": []
          },
          "execution_count": 47
        }
      ]
    },
    {
      "cell_type": "code",
      "metadata": {
        "colab": {
          "base_uri": "https://localhost:8080/"
        },
        "id": "asNfcDvq1Yu-",
        "outputId": "18021a88-4f02-4d2a-82e5-d866d0497853"
      },
      "source": [
        "d4['Transaction amount'].nlargest(2)"
      ],
      "execution_count": null,
      "outputs": [
        {
          "output_type": "execute_result",
          "data": {
            "text/plain": [
              "Merchant ID\n",
              "12394808    52835725.0\n",
              "10715830    28749198.0\n",
              "Name: Transaction amount, dtype: float64"
            ]
          },
          "metadata": {
            "tags": []
          },
          "execution_count": 48
        }
      ]
    },
    {
      "cell_type": "code",
      "metadata": {
        "id": "_lvHUIkD2oMO",
        "colab": {
          "base_uri": "https://localhost:8080/",
          "height": 436
        },
        "outputId": "250446ee-7bef-493f-9c9e-8a7cba340244"
      },
      "source": [
        "data"
      ],
      "execution_count": null,
      "outputs": [
        {
          "output_type": "execute_result",
          "data": {
            "text/html": [
              "<div>\n",
              "<style scoped>\n",
              "    .dataframe tbody tr th:only-of-type {\n",
              "        vertical-align: middle;\n",
              "    }\n",
              "\n",
              "    .dataframe tbody tr th {\n",
              "        vertical-align: top;\n",
              "    }\n",
              "\n",
              "    .dataframe thead th {\n",
              "        text-align: right;\n",
              "    }\n",
              "</style>\n",
              "<table border=\"1\" class=\"dataframe\">\n",
              "  <thead>\n",
              "    <tr style=\"text-align: right;\">\n",
              "      <th></th>\n",
              "      <th>Merchant ID</th>\n",
              "      <th>Transaction ID</th>\n",
              "      <th>Date of Transaction</th>\n",
              "      <th>Settlement Date</th>\n",
              "      <th>Requested Action</th>\n",
              "      <th>Status</th>\n",
              "      <th>Transaction amount</th>\n",
              "      <th>Transaction fee</th>\n",
              "      <th>Payment Type</th>\n",
              "      <th>Day</th>\n",
              "    </tr>\n",
              "  </thead>\n",
              "  <tbody>\n",
              "    <tr>\n",
              "      <th>0</th>\n",
              "      <td>9511450</td>\n",
              "      <td>9410106299</td>\n",
              "      <td>2021-07-14 10:03:00</td>\n",
              "      <td>2021-07-16</td>\n",
              "      <td>capture</td>\n",
              "      <td>SUCCESS</td>\n",
              "      <td>300.0</td>\n",
              "      <td>21.24</td>\n",
              "      <td>NB</td>\n",
              "      <td>Wednesday</td>\n",
              "    </tr>\n",
              "    <tr>\n",
              "      <th>1</th>\n",
              "      <td>9639200</td>\n",
              "      <td>9406287755</td>\n",
              "      <td>2021-07-13 16:46:00</td>\n",
              "      <td>2021-07-14</td>\n",
              "      <td>capture</td>\n",
              "      <td>SUCCESS</td>\n",
              "      <td>2200.0</td>\n",
              "      <td>22.42</td>\n",
              "      <td>NB</td>\n",
              "      <td>Tuesday</td>\n",
              "    </tr>\n",
              "    <tr>\n",
              "      <th>2</th>\n",
              "      <td>9682368</td>\n",
              "      <td>8070594039</td>\n",
              "      <td>2021-07-11 05:40:00</td>\n",
              "      <td>2021-07-13</td>\n",
              "      <td>capture</td>\n",
              "      <td>SUCCESS</td>\n",
              "      <td>5450.0</td>\n",
              "      <td>22.42</td>\n",
              "      <td>NB</td>\n",
              "      <td>Sunday</td>\n",
              "    </tr>\n",
              "    <tr>\n",
              "      <th>3</th>\n",
              "      <td>9682368</td>\n",
              "      <td>8070598614</td>\n",
              "      <td>2021-07-11 13:36:00</td>\n",
              "      <td>2021-07-13</td>\n",
              "      <td>capture</td>\n",
              "      <td>SUCCESS</td>\n",
              "      <td>5450.0</td>\n",
              "      <td>22.42</td>\n",
              "      <td>NB</td>\n",
              "      <td>Sunday</td>\n",
              "    </tr>\n",
              "    <tr>\n",
              "      <th>4</th>\n",
              "      <td>9682368</td>\n",
              "      <td>8070601263</td>\n",
              "      <td>2021-07-11 17:54:00</td>\n",
              "      <td>2021-07-13</td>\n",
              "      <td>capture</td>\n",
              "      <td>SUCCESS</td>\n",
              "      <td>2725.0</td>\n",
              "      <td>22.42</td>\n",
              "      <td>NB</td>\n",
              "      <td>Sunday</td>\n",
              "    </tr>\n",
              "    <tr>\n",
              "      <th>...</th>\n",
              "      <td>...</td>\n",
              "      <td>...</td>\n",
              "      <td>...</td>\n",
              "      <td>...</td>\n",
              "      <td>...</td>\n",
              "      <td>...</td>\n",
              "      <td>...</td>\n",
              "      <td>...</td>\n",
              "      <td>...</td>\n",
              "      <td>...</td>\n",
              "    </tr>\n",
              "    <tr>\n",
              "      <th>35035</th>\n",
              "      <td>14794168</td>\n",
              "      <td>8070658263</td>\n",
              "      <td>2021-07-11 17:10:00</td>\n",
              "      <td>2021-07-13</td>\n",
              "      <td>capture</td>\n",
              "      <td>SUCCESS</td>\n",
              "      <td>1700.0</td>\n",
              "      <td>0.00</td>\n",
              "      <td>DC</td>\n",
              "      <td>Sunday</td>\n",
              "    </tr>\n",
              "    <tr>\n",
              "      <th>35036</th>\n",
              "      <td>14811686</td>\n",
              "      <td>8070661171</td>\n",
              "      <td>2021-07-11 20:36:00</td>\n",
              "      <td>NaT</td>\n",
              "      <td>capture</td>\n",
              "      <td>SUCCESS</td>\n",
              "      <td>4050.0</td>\n",
              "      <td>0.00</td>\n",
              "      <td>DC</td>\n",
              "      <td>Sunday</td>\n",
              "    </tr>\n",
              "    <tr>\n",
              "      <th>35037</th>\n",
              "      <td>14823548</td>\n",
              "      <td>8070652765</td>\n",
              "      <td>2021-07-11 10:38:00</td>\n",
              "      <td>2021-07-13</td>\n",
              "      <td>capture</td>\n",
              "      <td>SUCCESS</td>\n",
              "      <td>2000.0</td>\n",
              "      <td>0.00</td>\n",
              "      <td>DC</td>\n",
              "      <td>Sunday</td>\n",
              "    </tr>\n",
              "    <tr>\n",
              "      <th>35038</th>\n",
              "      <td>14823548</td>\n",
              "      <td>8070652926</td>\n",
              "      <td>2021-07-11 10:46:00</td>\n",
              "      <td>2021-07-13</td>\n",
              "      <td>capture</td>\n",
              "      <td>SUCCESS</td>\n",
              "      <td>20000.0</td>\n",
              "      <td>0.00</td>\n",
              "      <td>DC</td>\n",
              "      <td>Sunday</td>\n",
              "    </tr>\n",
              "    <tr>\n",
              "      <th>35039</th>\n",
              "      <td>14823548</td>\n",
              "      <td>8070660754</td>\n",
              "      <td>2021-07-11 20:08:00</td>\n",
              "      <td>2021-07-13</td>\n",
              "      <td>capture</td>\n",
              "      <td>SUCCESS</td>\n",
              "      <td>1000.0</td>\n",
              "      <td>0.00</td>\n",
              "      <td>DC</td>\n",
              "      <td>Sunday</td>\n",
              "    </tr>\n",
              "  </tbody>\n",
              "</table>\n",
              "<p>35040 rows × 10 columns</p>\n",
              "</div>"
            ],
            "text/plain": [
              "       Merchant ID  Transaction ID  ... Payment Type        Day\n",
              "0          9511450      9410106299  ...           NB  Wednesday\n",
              "1          9639200      9406287755  ...           NB    Tuesday\n",
              "2          9682368      8070594039  ...           NB     Sunday\n",
              "3          9682368      8070598614  ...           NB     Sunday\n",
              "4          9682368      8070601263  ...           NB     Sunday\n",
              "...            ...             ...  ...          ...        ...\n",
              "35035     14794168      8070658263  ...           DC     Sunday\n",
              "35036     14811686      8070661171  ...           DC     Sunday\n",
              "35037     14823548      8070652765  ...           DC     Sunday\n",
              "35038     14823548      8070652926  ...           DC     Sunday\n",
              "35039     14823548      8070660754  ...           DC     Sunday\n",
              "\n",
              "[35040 rows x 10 columns]"
            ]
          },
          "metadata": {
            "tags": []
          },
          "execution_count": 56
        }
      ]
    },
    {
      "cell_type": "code",
      "metadata": {
        "id": "VFoGHOfS6Tjh"
      },
      "source": [
        "data5 = data[['Merchant ID', 'Date of Transaction', 'Transaction amount']]"
      ],
      "execution_count": null,
      "outputs": []
    },
    {
      "cell_type": "code",
      "metadata": {
        "colab": {
          "base_uri": "https://localhost:8080/",
          "height": 204
        },
        "id": "F-ZL40dR67N3",
        "outputId": "5274ec0e-a197-4349-df88-aa37e6bae7ce"
      },
      "source": [
        "data5.head()"
      ],
      "execution_count": null,
      "outputs": [
        {
          "output_type": "execute_result",
          "data": {
            "text/html": [
              "<div>\n",
              "<style scoped>\n",
              "    .dataframe tbody tr th:only-of-type {\n",
              "        vertical-align: middle;\n",
              "    }\n",
              "\n",
              "    .dataframe tbody tr th {\n",
              "        vertical-align: top;\n",
              "    }\n",
              "\n",
              "    .dataframe thead th {\n",
              "        text-align: right;\n",
              "    }\n",
              "</style>\n",
              "<table border=\"1\" class=\"dataframe\">\n",
              "  <thead>\n",
              "    <tr style=\"text-align: right;\">\n",
              "      <th></th>\n",
              "      <th>Merchant ID</th>\n",
              "      <th>Date of Transaction</th>\n",
              "      <th>Transaction amount</th>\n",
              "    </tr>\n",
              "  </thead>\n",
              "  <tbody>\n",
              "    <tr>\n",
              "      <th>0</th>\n",
              "      <td>9511450</td>\n",
              "      <td>2021-07-14 10:03:00</td>\n",
              "      <td>300.0</td>\n",
              "    </tr>\n",
              "    <tr>\n",
              "      <th>1</th>\n",
              "      <td>9639200</td>\n",
              "      <td>2021-07-13 16:46:00</td>\n",
              "      <td>2200.0</td>\n",
              "    </tr>\n",
              "    <tr>\n",
              "      <th>2</th>\n",
              "      <td>9682368</td>\n",
              "      <td>2021-07-11 05:40:00</td>\n",
              "      <td>5450.0</td>\n",
              "    </tr>\n",
              "    <tr>\n",
              "      <th>3</th>\n",
              "      <td>9682368</td>\n",
              "      <td>2021-07-11 13:36:00</td>\n",
              "      <td>5450.0</td>\n",
              "    </tr>\n",
              "    <tr>\n",
              "      <th>4</th>\n",
              "      <td>9682368</td>\n",
              "      <td>2021-07-11 17:54:00</td>\n",
              "      <td>2725.0</td>\n",
              "    </tr>\n",
              "  </tbody>\n",
              "</table>\n",
              "</div>"
            ],
            "text/plain": [
              "   Merchant ID Date of Transaction  Transaction amount\n",
              "0      9511450 2021-07-14 10:03:00               300.0\n",
              "1      9639200 2021-07-13 16:46:00              2200.0\n",
              "2      9682368 2021-07-11 05:40:00              5450.0\n",
              "3      9682368 2021-07-11 13:36:00              5450.0\n",
              "4      9682368 2021-07-11 17:54:00              2725.0"
            ]
          },
          "metadata": {
            "tags": []
          },
          "execution_count": 52
        }
      ]
    },
    {
      "cell_type": "code",
      "metadata": {
        "id": "vsAObYMv68xa"
      },
      "source": [
        "d5 = data5.sort_values('Merchant ID')"
      ],
      "execution_count": null,
      "outputs": []
    },
    {
      "cell_type": "code",
      "metadata": {
        "id": "1jKa-f7W7Hfn"
      },
      "source": [
        "d6=d5.set_index('Merchant ID')"
      ],
      "execution_count": null,
      "outputs": []
    },
    {
      "cell_type": "code",
      "metadata": {
        "id": "s2NKcPs27IrZ"
      },
      "source": [
        "d6.to_csv('ques2.csv')"
      ],
      "execution_count": null,
      "outputs": []
    },
    {
      "cell_type": "code",
      "metadata": {
        "id": "K5ceGmTB8QuQ"
      },
      "source": [
        ""
      ],
      "execution_count": null,
      "outputs": []
    }
  ]
}